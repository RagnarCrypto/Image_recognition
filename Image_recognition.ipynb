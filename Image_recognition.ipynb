{
  "nbformat": 4,
  "nbformat_minor": 0,
  "metadata": {
    "colab": {
      "name": "Image_recognition.ipynb",
      "provenance": []
    },
    "kernelspec": {
      "name": "python3",
      "display_name": "Python 3"
    },
    "language_info": {
      "name": "python"
    },
    "accelerator": "GPU"
  },
  "cells": [
    {
      "cell_type": "code",
      "metadata": {
        "id": "Wv8vbdXgoky2"
      },
      "source": [
        "!pip install pycodestyle\n",
        "!pip install --index-url https://test.pypi.org/simple/ nbpep8"
      ],
      "execution_count": null,
      "outputs": []
    },
    {
      "cell_type": "code",
      "metadata": {
        "id": "8P8ilM8TpMKv"
      },
      "source": [
        "from google.colab import files\n",
        "import matplotlib.pyplot as plt\n",
        "import math\n",
        "from nbpep8.nbpep8 import pep8\n",
        "import numpy as np\n",
        "import os\n",
        "from PIL import Image\n",
        "import random\n",
        "from tensorflow.keras.models import Sequential\n",
        "from tensorflow.keras.layers import Conv2D, MaxPooling2D, Dropout, BatchNormalization, Flatten, Dense\n",
        "from tensorflow.python.keras.preprocessing.image import ImageDataGenerator\n",
        "from tensorflow.keras.optimizers import Adam, Adadelta\n",
        "from tensorflow.keras import utils\n",
        "from tensorflow.keras.preprocessing import image\n",
        "\n",
        "%matplotlib inline\n",
        "\n",
        "pep8(_ih)"
      ],
      "execution_count": null,
      "outputs": []
    },
    {
      "cell_type": "code",
      "metadata": {
        "id": "PlrjkLBm4-Qb"
      },
      "source": [
        "train_path = '/content/drive/MyDrive/base/cars/train'\n",
        "valid_path = '/content/drive/MyDrive/base/cars/val'\n",
        "batch_size = 28\n",
        "\n",
        "pep8(_ih)"
      ],
      "execution_count": null,
      "outputs": []
    },
    {
      "cell_type": "code",
      "metadata": {
        "id": "pjqLM-rU664Y"
      },
      "source": [
        "img_data_gen = ImageDataGenerator(\n",
        "    rescale=1./255,\n",
        "    rotation_range=10,\n",
        "    width_shift_range=0.1,\n",
        "    height_shift_range=0.1,\n",
        "    zoom_range=0.1,\n",
        "    horizontal_flip=True,\n",
        "    fill_mode='nearest'\n",
        ")\n",
        "\n",
        "pep8(_ih)"
      ],
      "execution_count": null,
      "outputs": []
    },
    {
      "cell_type": "code",
      "metadata": {
        "id": "AeHLcd8O_fAw"
      },
      "source": [
        "train_gen = img_data_gen.flow_from_directory(\n",
        "    train_path,\n",
        "    target_size=(108, 192),\n",
        "    batch_size=batch_size,\n",
        "    class_mode='categorical',\n",
        "    shuffle=True\n",
        ")\n",
        "\n",
        "valid_gen = img_data_gen.flow_from_directory(\n",
        "    valid_path,\n",
        "    target_size=(108, 192),\n",
        "    batch_size=batch_size,\n",
        "    class_mode='categorical',\n",
        "    shuffle=True\n",
        ")\n",
        "\n",
        "pep8(_ih)"
      ],
      "execution_count": null,
      "outputs": []
    },
    {
      "cell_type": "code",
      "metadata": {
        "id": "RYSpT8yQA3P5"
      },
      "source": [
        "def show_pict(path):\n",
        "    fig, axs = plt.subplots(1, 3, figsize=(25, 5))\n",
        "    for i in range(3):\n",
        "        car_path = path + '/' + os.listdir(path)[i] + '/'\n",
        "        img_path = car_path + random.choice(os.listdir(car_path))\n",
        "        axs[i].imshow(image.load_img(img_path, target_size=(108, 192)))\n",
        "        \n",
        "    plt.show()\n",
        "\n",
        "    return plt.show()\n",
        "\n",
        "    pep8(_ih)"
      ],
      "execution_count": 6,
      "outputs": []
    },
    {
      "cell_type": "code",
      "metadata": {
        "id": "SoNDHMTcB8vk"
      },
      "source": [
        "show_pict(train_path)\n",
        "show_pict(valid_path)"
      ],
      "execution_count": null,
      "outputs": []
    },
    {
      "cell_type": "code",
      "metadata": {
        "id": "ewpKwULpEGCW"
      },
      "source": [
        "def create_model():\n",
        "    model = Sequential()\n",
        "\n",
        "    model.add(Conv2D(256, (3, 3), padding='same', activation='relu', input_shape=(108, 192, 3)))\n",
        "\n",
        "    model.add(Conv2D(256, (3, 3), padding='same', activation='relu'))\n",
        "    model.add(MaxPooling2D(pool_size=(3, 3)))\n",
        "\n",
        "    model.add(Conv2D(256, (3, 3), padding='same', activation='relu'))\n",
        "    model.add(Dropout(0.2))\n",
        "\n",
        "    model.add(Conv2D(256, (3, 3), padding='same', activation='relu'))\n",
        "    model.add(MaxPooling2D(pool_size=(3, 3)))\n",
        "    model.add(Dropout(0.2))\n",
        "\n",
        "    model.add(Conv2D(512, (3, 3), padding='same', activation='relu'))\n",
        "    model.add(Conv2D(1024, (3, 3), padding='same', activation='relu'))\n",
        "    model.add(MaxPooling2D(pool_size=(3, 3)))\n",
        "    model.add(Dropout(0.2))\n",
        "\n",
        "    model.add(Flatten())\n",
        "\n",
        "    model.add(Dense(2048, activation='relu'))\n",
        "    model.add(Dense(4096, activation='relu'))\n",
        "    model.add(Dense(3, activation='softmax'))\n",
        "\n",
        "    model.compile(loss='categorical_crossentropy',\n",
        "                  optimizer=Adam(learning_rate=0.0001),\n",
        "                  metrics=['accuracy'])\n",
        "\n",
        "    return model\n",
        "\n",
        "\n",
        "pep8(_ih)"
      ],
      "execution_count": null,
      "outputs": []
    },
    {
      "cell_type": "code",
      "metadata": {
        "id": "G89uvkEtHrJM"
      },
      "source": [
        "model = create_model()"
      ],
      "execution_count": 9,
      "outputs": []
    },
    {
      "cell_type": "code",
      "metadata": {
        "colab": {
          "base_uri": "https://localhost:8080/"
        },
        "id": "qxDJItnTH9xn",
        "outputId": "3bd01953-150b-480d-eabf-2d424c9694cb"
      },
      "source": [
        "def learn_model(model, train_gen, valid_gen, batch_size, epoch):\n",
        "    history = model.fit(train_gen,\n",
        "                        steps_per_epoch=train_gen.samples//batch_size,\n",
        "                        validation_data=valid_gen,\n",
        "                        validation_steps=valid_gen.samples//batch_size,\n",
        "                        epochs=epoch,\n",
        "                        verbose=1)\n",
        "\n",
        "    return history, model\n",
        "\n",
        "\n",
        "pep8(_ih)"
      ],
      "execution_count": 11,
      "outputs": [
        {
          "output_type": "stream",
          "name": "stdout",
          "text": [
            "\n"
          ]
        }
      ]
    },
    {
      "cell_type": "code",
      "metadata": {
        "id": "MA67xP8XK9yZ"
      },
      "source": [
        "history, model = learn_model(model, train_gen, valid_gen, batch_size, 50)"
      ],
      "execution_count": null,
      "outputs": []
    },
    {
      "cell_type": "code",
      "metadata": {
        "id": "7GyeT9NATaac"
      },
      "source": [
        "def plot_results(history):\n",
        "    plt.plot(history.history['accuracy'],\n",
        "            label='Accuracy on the test sample')\n",
        "    plt.plot(history.history['val_accuracy'],\n",
        "            label='Accuracy the validation sample')\n",
        "\n",
        "    plt.xlabel('Epoch')\n",
        "    plt.ylabel('Accuracy')\n",
        "\n",
        "    plt.legend()\n",
        "    plt.show()\n",
        "\n",
        "    return plt.show()\n",
        "\n",
        "\n",
        "pep8(_ih)"
      ],
      "execution_count": null,
      "outputs": []
    },
    {
      "cell_type": "code",
      "metadata": {
        "id": "3wEDmIpiTuxi"
      },
      "source": [
        "plot_results(history)"
      ],
      "execution_count": null,
      "outputs": []
    }
  ]
}